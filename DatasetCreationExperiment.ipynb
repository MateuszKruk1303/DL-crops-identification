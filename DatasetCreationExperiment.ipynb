{
 "cells": [
  {
   "cell_type": "code",
   "execution_count": 1,
   "id": "f854d724-b9ae-4cf3-9f7b-e0eac8121a9a",
   "metadata": {},
   "outputs": [
    {
     "name": "stderr",
     "output_type": "stream",
     "text": [
      "C:\\Users\\Mati\\anaconda3\\envs\\master\\lib\\site-packages\\tqdm\\auto.py:22: TqdmWarning: IProgress not found. Please update jupyter and ipywidgets. See https://ipywidgets.readthedocs.io/en/stable/user_install.html\n",
      "  from .autonotebook import tqdm as notebook_tqdm\n"
     ]
    }
   ],
   "source": [
    "import numpy as np\n",
    "import torch\n",
    "import torch.nn.functional as F"
   ]
  },
  {
   "cell_type": "code",
   "execution_count": null,
   "id": "6d45cbfe-b02e-4363-9d06-e076e175c390",
   "metadata": {},
   "outputs": [],
   "source": [
    "testuwa = torch.randn(3, 3, 3)"
   ]
  },
  {
   "cell_type": "code",
   "execution_count": 72,
   "id": "2c1e3033-2a62-4651-a4d5-4dc3fd60b206",
   "metadata": {},
   "outputs": [],
   "source": [
    "tensor = torch.randn(3, 3, 3)"
   ]
  },
  {
   "cell_type": "code",
   "execution_count": 73,
   "id": "5ccd8299-bd8c-4e14-b894-7b45ce00f56f",
   "metadata": {},
   "outputs": [
    {
     "data": {
      "text/plain": [
       "tensor([[[ 0.1672,  1.0458,  0.5627],\n",
       "         [ 1.2991, -1.3889,  0.8937],\n",
       "         [ 0.0858,  1.0934,  0.2977]],\n",
       "\n",
       "        [[ 1.0977,  0.7520,  0.7906],\n",
       "         [ 0.2112, -0.3359, -1.1636],\n",
       "         [-1.6091,  0.4361,  0.4542]],\n",
       "\n",
       "        [[ 0.1530, -0.4246, -0.7641],\n",
       "         [ 2.5847,  1.7922, -0.7811],\n",
       "         [ 1.0675, -1.4717, -0.3632]]])"
      ]
     },
     "execution_count": 73,
     "metadata": {},
     "output_type": "execute_result"
    }
   ],
   "source": [
    "tensor"
   ]
  },
  {
   "cell_type": "code",
   "execution_count": 74,
   "id": "1701139a-45f0-41e8-a205-82c699fef93a",
   "metadata": {},
   "outputs": [],
   "source": [
    "padded = F.pad(tensor, (1, 1, 1, 1), \"constant\", 0)"
   ]
  },
  {
   "cell_type": "code",
   "execution_count": 75,
   "id": "a1571748-0364-4178-965f-feee1fe02c53",
   "metadata": {},
   "outputs": [
    {
     "data": {
      "text/plain": [
       "tensor([[[ 0.0000,  0.0000,  0.0000,  0.0000,  0.0000],\n",
       "         [ 0.0000,  0.1672,  1.0458,  0.5627,  0.0000],\n",
       "         [ 0.0000,  1.2991, -1.3889,  0.8937,  0.0000],\n",
       "         [ 0.0000,  0.0858,  1.0934,  0.2977,  0.0000],\n",
       "         [ 0.0000,  0.0000,  0.0000,  0.0000,  0.0000]],\n",
       "\n",
       "        [[ 0.0000,  0.0000,  0.0000,  0.0000,  0.0000],\n",
       "         [ 0.0000,  1.0977,  0.7520,  0.7906,  0.0000],\n",
       "         [ 0.0000,  0.2112, -0.3359, -1.1636,  0.0000],\n",
       "         [ 0.0000, -1.6091,  0.4361,  0.4542,  0.0000],\n",
       "         [ 0.0000,  0.0000,  0.0000,  0.0000,  0.0000]],\n",
       "\n",
       "        [[ 0.0000,  0.0000,  0.0000,  0.0000,  0.0000],\n",
       "         [ 0.0000,  0.1530, -0.4246, -0.7641,  0.0000],\n",
       "         [ 0.0000,  2.5847,  1.7922, -0.7811,  0.0000],\n",
       "         [ 0.0000,  1.0675, -1.4717, -0.3632,  0.0000],\n",
       "         [ 0.0000,  0.0000,  0.0000,  0.0000,  0.0000]]])"
      ]
     },
     "execution_count": 75,
     "metadata": {},
     "output_type": "execute_result"
    }
   ],
   "source": [
    "padded"
   ]
  },
  {
   "cell_type": "code",
   "execution_count": 76,
   "id": "ad32774d-4576-47ed-bfba-ba5b085e6360",
   "metadata": {},
   "outputs": [],
   "source": [
    "#windows and permutation"
   ]
  },
  {
   "cell_type": "code",
   "execution_count": 77,
   "id": "38e8fd25-e26f-44e6-8da0-4a73a4857169",
   "metadata": {},
   "outputs": [
    {
     "data": {
      "text/plain": [
       "torch.Size([3, 5, 5])"
      ]
     },
     "execution_count": 77,
     "metadata": {},
     "output_type": "execute_result"
    }
   ],
   "source": [
    "padded.shape"
   ]
  },
  {
   "cell_type": "code",
   "execution_count": 78,
   "id": "a9429ece-9fbb-42fb-ac1e-b29798d0f768",
   "metadata": {},
   "outputs": [
    {
     "data": {
      "text/plain": [
       "torch.Size([5, 3, 5])"
      ]
     },
     "execution_count": 78,
     "metadata": {},
     "output_type": "execute_result"
    }
   ],
   "source": [
    "padded = padded.permute((-1, 0, 1))\n",
    "padded.shape"
   ]
  },
  {
   "cell_type": "code",
   "execution_count": 79,
   "id": "f603977e-6499-450b-9591-5d7e0ff36a94",
   "metadata": {},
   "outputs": [],
   "source": [
    "padded = padded.unfold(1,3,1).unfold(2,3,1)"
   ]
  },
  {
   "cell_type": "code",
   "execution_count": 80,
   "id": "b5ad7291-d147-4d4f-86a1-8b4f48918639",
   "metadata": {},
   "outputs": [],
   "source": [
    "padded = padded.reshape(padded.shape[0],-1,*padded.shape[3:])"
   ]
  },
  {
   "cell_type": "code",
   "execution_count": 81,
   "id": "8597efd0-70b3-4154-905e-61e64dc3ce4a",
   "metadata": {},
   "outputs": [
    {
     "data": {
      "text/plain": [
       "tensor([[[[ 0.0000,  0.0000,  0.0000],\n",
       "          [ 0.0000,  0.0000,  0.0000],\n",
       "          [ 0.0000,  0.0000,  0.0000]],\n",
       "\n",
       "         [[ 0.0000,  0.0000,  0.0000],\n",
       "          [ 0.0000,  0.0000,  0.0000],\n",
       "          [ 0.0000,  0.0000,  0.0000]],\n",
       "\n",
       "         [[ 0.0000,  0.0000,  0.0000],\n",
       "          [ 0.0000,  0.0000,  0.0000],\n",
       "          [ 0.0000,  0.0000,  0.0000]]],\n",
       "\n",
       "\n",
       "        [[[ 0.0000,  0.1672,  1.2991],\n",
       "          [ 0.0000,  1.0977,  0.2112],\n",
       "          [ 0.0000,  0.1530,  2.5847]],\n",
       "\n",
       "         [[ 0.1672,  1.2991,  0.0858],\n",
       "          [ 1.0977,  0.2112, -1.6091],\n",
       "          [ 0.1530,  2.5847,  1.0675]],\n",
       "\n",
       "         [[ 1.2991,  0.0858,  0.0000],\n",
       "          [ 0.2112, -1.6091,  0.0000],\n",
       "          [ 2.5847,  1.0675,  0.0000]]],\n",
       "\n",
       "\n",
       "        [[[ 0.0000,  1.0458, -1.3889],\n",
       "          [ 0.0000,  0.7520, -0.3359],\n",
       "          [ 0.0000, -0.4246,  1.7922]],\n",
       "\n",
       "         [[ 1.0458, -1.3889,  1.0934],\n",
       "          [ 0.7520, -0.3359,  0.4361],\n",
       "          [-0.4246,  1.7922, -1.4717]],\n",
       "\n",
       "         [[-1.3889,  1.0934,  0.0000],\n",
       "          [-0.3359,  0.4361,  0.0000],\n",
       "          [ 1.7922, -1.4717,  0.0000]]],\n",
       "\n",
       "\n",
       "        [[[ 0.0000,  0.5627,  0.8937],\n",
       "          [ 0.0000,  0.7906, -1.1636],\n",
       "          [ 0.0000, -0.7641, -0.7811]],\n",
       "\n",
       "         [[ 0.5627,  0.8937,  0.2977],\n",
       "          [ 0.7906, -1.1636,  0.4542],\n",
       "          [-0.7641, -0.7811, -0.3632]],\n",
       "\n",
       "         [[ 0.8937,  0.2977,  0.0000],\n",
       "          [-1.1636,  0.4542,  0.0000],\n",
       "          [-0.7811, -0.3632,  0.0000]]],\n",
       "\n",
       "\n",
       "        [[[ 0.0000,  0.0000,  0.0000],\n",
       "          [ 0.0000,  0.0000,  0.0000],\n",
       "          [ 0.0000,  0.0000,  0.0000]],\n",
       "\n",
       "         [[ 0.0000,  0.0000,  0.0000],\n",
       "          [ 0.0000,  0.0000,  0.0000],\n",
       "          [ 0.0000,  0.0000,  0.0000]],\n",
       "\n",
       "         [[ 0.0000,  0.0000,  0.0000],\n",
       "          [ 0.0000,  0.0000,  0.0000],\n",
       "          [ 0.0000,  0.0000,  0.0000]]]])"
      ]
     },
     "execution_count": 81,
     "metadata": {},
     "output_type": "execute_result"
    }
   ],
   "source": [
    "padded"
   ]
  },
  {
   "cell_type": "code",
   "execution_count": 51,
   "id": "3de233ad-dbdf-479c-a825-37e9ea801bcb",
   "metadata": {},
   "outputs": [],
   "source": [
    "padded = padded.permute((1,2,3,0))"
   ]
  },
  {
   "cell_type": "code",
   "execution_count": 52,
   "id": "f7b483ff-20e7-4a8e-b207-071d12b95fb0",
   "metadata": {},
   "outputs": [
    {
     "data": {
      "text/plain": [
       "tensor([[[[0., 0., 0., 0., 0.],\n",
       "          [0., 1., 1., 1., 0.],\n",
       "          [0., 1., 1., 1., 0.]],\n",
       "\n",
       "         [[0., 0., 0., 0., 0.],\n",
       "          [0., 1., 1., 1., 0.],\n",
       "          [0., 1., 1., 1., 0.]],\n",
       "\n",
       "         [[0., 0., 0., 0., 0.],\n",
       "          [0., 1., 1., 1., 0.],\n",
       "          [0., 1., 1., 1., 0.]]],\n",
       "\n",
       "\n",
       "        [[[0., 1., 1., 1., 0.],\n",
       "          [0., 1., 1., 1., 0.],\n",
       "          [0., 1., 1., 1., 0.]],\n",
       "\n",
       "         [[0., 1., 1., 1., 0.],\n",
       "          [0., 1., 1., 1., 0.],\n",
       "          [0., 1., 1., 1., 0.]],\n",
       "\n",
       "         [[0., 1., 1., 1., 0.],\n",
       "          [0., 1., 1., 1., 0.],\n",
       "          [0., 1., 1., 1., 0.]]],\n",
       "\n",
       "\n",
       "        [[[0., 1., 1., 1., 0.],\n",
       "          [0., 1., 1., 1., 0.],\n",
       "          [0., 0., 0., 0., 0.]],\n",
       "\n",
       "         [[0., 1., 1., 1., 0.],\n",
       "          [0., 1., 1., 1., 0.],\n",
       "          [0., 0., 0., 0., 0.]],\n",
       "\n",
       "         [[0., 1., 1., 1., 0.],\n",
       "          [0., 1., 1., 1., 0.],\n",
       "          [0., 0., 0., 0., 0.]]]])"
      ]
     },
     "execution_count": 52,
     "metadata": {},
     "output_type": "execute_result"
    }
   ],
   "source": [
    "padded"
   ]
  },
  {
   "cell_type": "code",
   "execution_count": 71,
   "id": "7be6ae96-5a2e-4982-b444-3012c3736b1e",
   "metadata": {},
   "outputs": [
    {
     "ename": "SyntaxError",
     "evalue": "invalid syntax (Temp/ipykernel_9660/2098137472.py, line 1)",
     "output_type": "error",
     "traceback": [
      "\u001b[1;36m  File \u001b[1;32m\"C:\\Users\\Mati\\AppData\\Local\\Temp/ipykernel_9660/2098137472.py\"\u001b[1;36m, line \u001b[1;32m1\u001b[0m\n\u001b[1;33m    test = torch.tensor([x for x in range(10) x = torch.arange(1, 10)])\u001b[0m\n\u001b[1;37m                                              ^\u001b[0m\n\u001b[1;31mSyntaxError\u001b[0m\u001b[1;31m:\u001b[0m invalid syntax\n"
     ]
    }
   ],
   "source": [
    "\n",
    "\n",
    "test = torch.tensor()\n",
    "\n",
    "test"
   ]
  },
  {
   "cell_type": "code",
   "execution_count": 64,
   "id": "bb57b076-9d91-48ca-a42c-e356860795e3",
   "metadata": {},
   "outputs": [
    {
     "data": {
      "text/plain": [
       "tensor([[1, 2, 3],\n",
       "        [2, 3, 4],\n",
       "        [3, 4, 5],\n",
       "        [4, 5, 6],\n",
       "        [5, 6, 7],\n",
       "        [6, 7, 8],\n",
       "        [7, 8, 9]])"
      ]
     },
     "execution_count": 64,
     "metadata": {},
     "output_type": "execute_result"
    }
   ],
   "source": [
    "unfolded = test.unfold(0, 3, 1)\n",
    "\n",
    "unfolded"
   ]
  },
  {
   "cell_type": "code",
   "execution_count": 68,
   "id": "17ee28ba-6367-4296-bae8-0fba32bae0a8",
   "metadata": {},
   "outputs": [
    {
     "data": {
      "text/plain": [
       "tensor([[[1, 2],\n",
       "         [2, 3]],\n",
       "\n",
       "        [[2, 3],\n",
       "         [3, 4]],\n",
       "\n",
       "        [[3, 4],\n",
       "         [4, 5]],\n",
       "\n",
       "        [[4, 5],\n",
       "         [5, 6]],\n",
       "\n",
       "        [[5, 6],\n",
       "         [6, 7]],\n",
       "\n",
       "        [[6, 7],\n",
       "         [7, 8]],\n",
       "\n",
       "        [[7, 8],\n",
       "         [8, 9]]])"
      ]
     },
     "execution_count": 68,
     "metadata": {},
     "output_type": "execute_result"
    }
   ],
   "source": [
    "unfolded.unfold(1, 2, 1)"
   ]
  },
  {
   "cell_type": "code",
   "execution_count": null,
   "id": "ce0eed78-a60c-4106-976b-8e0abcc12e5c",
   "metadata": {},
   "outputs": [],
   "source": []
  }
 ],
 "metadata": {
  "kernelspec": {
   "display_name": "Python 3 (ipykernel)",
   "language": "python",
   "name": "python3"
  },
  "language_info": {
   "codemirror_mode": {
    "name": "ipython",
    "version": 3
   },
   "file_extension": ".py",
   "mimetype": "text/x-python",
   "name": "python",
   "nbconvert_exporter": "python",
   "pygments_lexer": "ipython3",
   "version": "3.8.12"
  }
 },
 "nbformat": 4,
 "nbformat_minor": 5
}
